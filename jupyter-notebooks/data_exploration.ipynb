{
 "cells": [
  {
   "cell_type": "code",
   "execution_count": 8,
   "metadata": {},
   "outputs": [],
   "source": [
    "import os\n",
    "\n",
    "import numpy as np\n",
    "\n",
    "from rdkit import Chem\n",
    "\n",
    "DATA_PATH = os.path.join(os.getcwd(), 'QM9', 'gdb9.sdf')\n",
    "DATA_WRITE_PATH = os.path.join(os.getcwd(), 'data', 'qm9_all.txt')\n",
    "DATA_TRAIN_PATH = os.path.join(os.getcwd(), 'data', 'qm9_train.txt')\n",
    "DATA_VAL_PATH = os.path.join(os.getcwd(), 'data', 'qm9_val.txt')\n",
    "DATA_TEST_PATH = os.path.join(os.getcwd(), 'data', 'qm9_test.txt')"
   ]
  },
  {
   "cell_type": "code",
   "execution_count": 10,
   "metadata": {
    "collapsed": true
   },
   "outputs": [
    {
     "name": "stdout",
     "output_type": "stream",
     "text": [
      "SMILES in training data: 106599\n"
     ]
    }
   ],
   "source": [
    "count = 0\n",
    "with open(DATA_TRAIN_PATH, 'r') as file:\n",
    "    for line in file:\n",
    "        count += 1\n",
    "        \n",
    "print('SMILES in training data: {}'.format(count))"
   ]
  },
  {
   "cell_type": "code",
   "execution_count": null,
   "metadata": {},
   "outputs": [],
   "source": []
  },
  {
   "cell_type": "code",
   "execution_count": 2,
   "metadata": {
    "collapsed": true
   },
   "outputs": [
    {
     "name": "stdout",
     "output_type": "stream",
     "text": [
      "Total SMILES representations: 133247\n"
     ]
    }
   ],
   "source": [
    "data = list(filter(lambda x: x is not None, Chem.SDMolSupplier(DATA_PATH)))\n",
    "\n",
    "smiles = []\n",
    "\n",
    "for mol in data:\n",
    "    smiles.append(Chem.MolToSmiles(mol))\n",
    "    \n",
    "print('Total SMILES representations: {}'.format(len(smiles)))"
   ]
  },
  {
   "cell_type": "code",
   "execution_count": 3,
   "metadata": {},
   "outputs": [
    {
     "data": {
      "text/plain": [
       "133247"
      ]
     },
     "execution_count": 3,
     "metadata": {},
     "output_type": "execute_result"
    }
   ],
   "source": [
    "len(smiles)"
   ]
  },
  {
   "cell_type": "code",
   "execution_count": 19,
   "metadata": {},
   "outputs": [],
   "source": [
    "with open(DATA_WRITE_PATH, 'w') as file:\n",
    "    for smiles_str in smiles:\n",
    "        file.write(smiles_str + '\\n')"
   ]
  },
  {
   "cell_type": "code",
   "execution_count": 4,
   "metadata": {},
   "outputs": [],
   "source": [
    "val_, test_ = 0.1, 0.1\n",
    "\n",
    "val = int(val_ * len(smiles))\n",
    "test = int(test_ * len(smiles))\n",
    "train = len(smiles) - val - test\n",
    "\n",
    "all_idx = np.random.permutation(len(smiles))\n",
    "train_idx = all_idx[0 : train]\n",
    "val_idx = all_idx[train : train + val]\n",
    "test_idx = all_idx[train + val :]"
   ]
  },
  {
   "cell_type": "code",
   "execution_count": 5,
   "metadata": {},
   "outputs": [],
   "source": [
    "smiles_np_arr = np.array(smiles)"
   ]
  },
  {
   "cell_type": "code",
   "execution_count": 6,
   "metadata": {},
   "outputs": [],
   "source": [
    "train_smiles = smiles_np_arr[train_idx] \n",
    "\n",
    "val_smiles = smiles_np_arr[val_idx]\n",
    "\n",
    "test_smiles = smiles_np_arr[test_idx]"
   ]
  },
  {
   "cell_type": "code",
   "execution_count": 7,
   "metadata": {},
   "outputs": [],
   "source": [
    "with open(DATA_TRAIN_PATH, 'w') as file:\n",
    "    for smiles_str in train_smiles:\n",
    "        file.write(smiles_str + '\\n')\n",
    "        \n",
    "with open(DATA_VAL_PATH, 'w') as file:\n",
    "    for smiles_str in val_smiles:\n",
    "        file.write(smiles_str + '\\n')\n",
    "        \n",
    "with open(DATA_TEST_PATH, 'w') as file:\n",
    "    for smiles_str in test_smiles:\n",
    "        file.write(smiles_str + '\\n')"
   ]
  },
  {
   "cell_type": "code",
   "execution_count": null,
   "metadata": {},
   "outputs": [],
   "source": []
  }
 ],
 "metadata": {
  "kernelspec": {
   "display_name": "Python 2",
   "language": "python",
   "name": "python2"
  },
  "language_info": {
   "codemirror_mode": {
    "name": "ipython",
    "version": 2
   },
   "file_extension": ".py",
   "mimetype": "text/x-python",
   "name": "python",
   "nbconvert_exporter": "python",
   "pygments_lexer": "ipython2",
   "version": "2.7.13"
  }
 },
 "nbformat": 4,
 "nbformat_minor": 1
}
