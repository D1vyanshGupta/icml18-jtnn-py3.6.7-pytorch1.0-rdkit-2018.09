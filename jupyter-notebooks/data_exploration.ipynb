{
 "cells": [
  {
   "cell_type": "code",
   "execution_count": 41,
   "metadata": {},
   "outputs": [],
   "source": [
    "import os, math\n",
    "\n",
    "DATA_PATH = os.path.join(os.getcwd(), 'data', 'train.txt')\n",
    "WRITE_PATH = os.path.join(os.getcwd(), 'data', 'train_100.txt')"
   ]
  },
  {
   "cell_type": "code",
   "execution_count": 42,
   "metadata": {
    "collapsed": true
   },
   "outputs": [
    {
     "name": "stdout",
     "output_type": "stream",
     "text": [
      "Total SMILES representations: 220011\n"
     ]
    }
   ],
   "source": [
    "count = 0\n",
    "with open(DATA_PATH, 'r') as file:\n",
    "    for line in file:\n",
    "        count += 1\n",
    "        \n",
    "print('Total SMILES representations: {}'.format(count))\n",
    "\n",
    "# count_100 = 100\n",
    "# \n",
    "# with open(DATA_PATH, 'r') as read_file:\n",
    "#     line_cnt = 0\n",
    "#     \n",
    "#     with open(WRITE_PATH, 'w') as write_file: \n",
    "#         for line in read_file:\n",
    "#             if line_cnt == count_100:\n",
    "#                 break\n",
    "#             else:\n",
    "#                 write_file.write(line)\n",
    "#                 line_cnt += 1\n",
    "# \n",
    "# print('100 SMILES written at {}'.format(WRITE_PATH))"
   ]
  },
  {
   "cell_type": "code",
   "execution_count": 43,
   "metadata": {},
   "outputs": [
    {
     "data": {
      "text/plain": [
       "5501"
      ]
     },
     "execution_count": 43,
     "metadata": {},
     "output_type": "execute_result"
    }
   ],
   "source": [
    "math.ceil(count / 40)"
   ]
  }
 ],
 "metadata": {
  "kernelspec": {
   "display_name": "Python 2",
   "language": "python",
   "name": "python2"
  },
  "language_info": {
   "codemirror_mode": {
    "name": "ipython",
    "version": 2
   },
   "file_extension": ".py",
   "mimetype": "text/x-python",
   "name": "python",
   "nbconvert_exporter": "python",
   "pygments_lexer": "ipython2",
   "version": "2.7.13"
  }
 },
 "nbformat": 4,
 "nbformat_minor": 1
}
