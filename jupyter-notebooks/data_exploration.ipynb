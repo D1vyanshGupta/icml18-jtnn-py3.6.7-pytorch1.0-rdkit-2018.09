{
 "cells": [
  {
   "cell_type": "code",
   "execution_count": 5,
   "metadata": {},
   "outputs": [],
   "source": [
    "import os\n",
    "\n",
    "DATA_PATH = os.path.join(os.getcwd(), 'data', 'train.txt')\n",
    "WRITE_PATH = os.path.join(os.getcwd(), 'data', 'train_5.txt')"
   ]
  },
  {
   "cell_type": "code",
   "execution_count": 6,
   "metadata": {},
   "outputs": [
    {
     "name": "stdout",
     "output_type": "stream",
     "text": [
      "Total SMILES representations: 220011\n25% of the dataset written at /Users/divyanshgupta/icml18-jtnn-py3.6.7-pytorch1.0-rdkit-2018.09/data/train_5.txt\n"
     ]
    }
   ],
   "source": [
    "count = 0\n",
    "with open(DATA_PATH, 'r') as file:\n",
    "    for line in file:\n",
    "        count += 1\n",
    "        \n",
    "print('Total SMILES representations: {}'.format(count))\n",
    "\n",
    "# count_25_pct = math.ceil(count / 4)\n",
    "\n",
    "count_5 = 5\n",
    "\n",
    "with open(DATA_PATH, 'r') as read_file:\n",
    "    line_cnt = 0\n",
    "    \n",
    "    with open(WRITE_PATH, 'w') as write_file: \n",
    "        for line in read_file:\n",
    "            if line_cnt == count_5:\n",
    "                break\n",
    "            else:\n",
    "                write_file.write(line)\n",
    "                line_cnt += 1\n",
    "\n",
    "print('25% of the dataset written at {}'.format(WRITE_PATH))"
   ]
  },
  {
   "cell_type": "code",
   "execution_count": null,
   "metadata": {},
   "outputs": [],
   "source": []
  }
 ],
 "metadata": {
  "kernelspec": {
   "display_name": "Python 2",
   "language": "python",
   "name": "python2"
  },
  "language_info": {
   "codemirror_mode": {
    "name": "ipython",
    "version": 2
   },
   "file_extension": ".py",
   "mimetype": "text/x-python",
   "name": "python",
   "nbconvert_exporter": "python",
   "pygments_lexer": "ipython2",
   "version": "2.7.6"
  }
 },
 "nbformat": 4,
 "nbformat_minor": 0
}
