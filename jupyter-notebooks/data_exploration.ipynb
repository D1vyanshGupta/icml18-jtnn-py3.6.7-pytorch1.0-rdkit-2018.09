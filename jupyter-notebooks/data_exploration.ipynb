{
 "cells": [
  {
   "cell_type": "code",
   "execution_count": 3,
   "metadata": {
    "collapsed": true
   },
   "outputs": [],
   "source": [
    "import os\n",
    "\n",
    "DATA_PATH = os.path.join(os.getcwd(), 'data', 'train.txt')\n",
    "WRITE_PATH = os.path.join(os.getcwd(), 'data', 'train_50.txt')"
   ]
  },
  {
   "cell_type": "code",
   "execution_count": 4,
   "metadata": {},
   "outputs": [
    {
     "name": "stdout",
     "output_type": "stream",
     "text": [
      "CCCCCCC1=NN2C(=N)/C(=C\\c3cc(C)n(-c4ccc(C)cc4C)c3C)C(=O)N=C2S1\n\nCOCC[C@@H](C)C(=O)N(C)Cc1ccc(O)cc1\n\nC=CCn1c(S[C@H](C)c2nc3sc(C)c(C)c3c(=O)[nH]2)nnc1C1CC1\n\nC[NH+](C/C=C/c1ccco1)CCC(F)(F)F\n\nCOc1ccc(N2C(=O)C(=O)N(CN3CCC(c4nc5ccccc5s4)CC3)C2=O)cc1\n\nCc1ccc([C@@H](C)[NH2+][C@H](C)C(=O)Nc2ccccc2F)cc1\n\nO=c1cc(C[NH2+]Cc2cccc(Cl)c2)nc(N2CCCC2)[nH]1\n\nO=C(Cn1nc(C(=O)[O-])c2ccccc2c1=O)Nc1ccc2c(c1)C(=O)c1ccccc1C2=O\n\nO=C(Nc1cccc(S(=O)(=O)N2CCCCC2)c1)c1cc(F)c(F)cc1Cl\n\nCC(C)Cc1nnc(NC(=O)C(=O)NCCC2CCCCC2)s1\n\nC[C@H](NC(=O)[C@@H](O)c1ccccc1)c1nnc2ccccn12\n\nO=S(=O)(Nc1cc(F)ccc1F)c1ccc(Cl)cc1F\n\nCSc1cc(C(=O)N2c3ccccc3NC(=O)C[C@@H]2C)ccn1\n\nCCCN1C(=O)c2[nH]nc(-c3cc(Cl)ccc3O)c2[C@H]1c1ccc(C)cc1\n\nCC[S@@](=O)[C@@H]1CCC[C@H](NC(=O)N(Cc2cccs2)C2CC2)C1\n\nC[C@@H](c1ccco1)[NH+](Cc1ncc(-c2ccccc2)o1)C1CC1\n\nCOc1ccc(Cc2nnc(SCC(=O)N3CCC[C@@H](C)C3)o2)cc1\n\nO=C(/C=C/c1ccc2c(c1)OCO2)NC[C@@H]1C[NH+]2CCN1CC2\n\nCOc1ccccc1/C=C/C=C(\\C#N)C(=O)Nc1ccc(C(=O)N(C)C)cc1\n\nCc1cccc(NC(=S)N2CC[NH+](C)CC2)c1C\n\nCNC(=O)c1cc(NC(=O)N2C[C@H]3CCC[NH+]3C[C@H]2C)ccc1F\n\nCCCc1ccc([C@@H]([NH3+])C(OC)OC)cc1\n\n[NH3+]C[C@H](c1cc(Cl)cs1)N1CC[C@@H]2CCCC[C@@H]2C1\n\nCC(C)CN(CC(C)C)C(=O)NCC(C)(C)N1CCOCC1\n\nCOc1cc(C(=O)N[C@H]2C[C@H]2c2cccc(Cl)c2)cc(OC)c1OC\n\nCOCCNC(=O)c1cccc(N2CC[NH2+][C@@H](c3ccccc3)C2)n1\n\nCc1ccc(-c2cc(OCC(=O)[O-])nc(NCc3ccc4c(c3)OCO4)n2)cc1\n\nCOc1cccc(NC2CC[NH+](C[C@@H](O)CN3C[C@H](C)O[C@@H](C)C3)CC2)c1\n\nCC(C)[C@H](NC(=O)Nc1ccccc1)C(=O)NCc1ccco1\n\nO=C(Nc1ccccn1)N1CCC(n2cc[nH+]c2)CC1\n\nCc1cc(C)cc([C@H]2OCC[C@H]2C[NH2+]C(C)C)c1\n\nC[C@H]1CSC(NC[C@]2(C)CCCO2)=[NH+]1\n\nCc1ccc(O)c(Cc2ccccc2Cl)c1\n\nO=C1CCCC2=C1[C@H](c1ccc([N+](=O)[O-])o1)n1nnnc1N2\n\nC=CCS/C(N)=C(C#N)/C(C#N)=C(\\N)SCC=C\n\nCc1sc(=O)n(CCC(=O)N(C)[C@@H]2CCCC[C@H]2S(C)(=O)=O)c1C\n\nCOc1cc([N+](=O)[O-])cc(/C=N/Nc2ccccc2C)c1O\n\nCCOC(=O)[C@@H]1CCCN(Cc2nn3c(=O)cc(C)nc3s2)C1\n\nCc1sc2nc(C[NH+](C(C)C)C3CCCC3)nc(N)c2c1C\n\nO=C(NCCCc1nc2ccccc2s1)N1CCc2ccccc2C1\n\nCCOc1ccc(Br)cc1C(=O)Nc1cccc(OC[C@@H]2CCCO2)c1\n\nCCn1nc(C(=O)N2CCN(c3ccccc3)CC2)c2c1CC[NH+](Cc1cc(C)c(OC)cc1C)C2\n\nO=C(N[C@@H]1[C@@H]2CCO[C@@H]2C12CCC2)c1cnc([C@H]2CCCO2)s1\n\nCCOc1ccc(C(=O)Nc2ccc(F)cc2F)cc1\n\nO=C(C1CCC(F)(F)CC1)N1CCN(c2ncccc2F)CC1\n\nO=C(NCc1ccc(F)c(Cl)c1)[C@@H]1CSCN1C(=O)c1c[nH]c2ccccc12\n\nCc1cc(CCNC(=O)Nc2ccccc2F)on1\n\nCOCCOC(=O)C1=C(N)Oc2c(oc(CO)cc2=O)[C@H]1c1cccc(F)c1\n\nCCOC(=O)C(=O)Nc1cc(C)nn1-c1nc([O-])c2c(n1)CCC2\n\nCN(C(=O)[C@H]1CCCN(c2ncnc3onc(-c4ccc(F)cc4)c23)C1)C1CCCCC1\n\n"
     ]
    }
   ],
   "source": [
    "idx = 0\n",
    "smiles_batch = []\n",
    "with open(DATA_PATH, 'r') as file:\n",
    "    for line in file:\n",
    "        if idx == 50:\n",
    "            break\n",
    "        smiles_batch.append(line)\n",
    "        idx += 1\n",
    "        \n",
    "with open(WRITE_PATH, 'w') as file:\n",
    "    for line in smiles_batch:\n",
    "        print(line)\n",
    "        file.write(line)"
   ]
  }
 ],
 "metadata": {
  "kernelspec": {
   "display_name": "Python 2",
   "language": "python",
   "name": "python2"
  },
  "language_info": {
   "codemirror_mode": {
    "name": "ipython",
    "version": 2
   },
   "file_extension": ".py",
   "mimetype": "text/x-python",
   "name": "python",
   "nbconvert_exporter": "python",
   "pygments_lexer": "ipython2",
   "version": "2.7.6"
  }
 },
 "nbformat": 4,
 "nbformat_minor": 0
}
