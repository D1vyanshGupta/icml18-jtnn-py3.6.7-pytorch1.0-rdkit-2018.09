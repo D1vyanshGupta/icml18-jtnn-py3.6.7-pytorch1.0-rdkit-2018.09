{
 "cells": [
  {
   "cell_type": "code",
   "execution_count": 1,
   "metadata": {},
   "outputs": [],
   "source": [
    "import os\n",
    "\n",
    "from rdkit.Chem.Draw import IPythonConsole\n",
    "IPythonConsole.ipython_useSVG = True"
   ]
  },
  {
   "cell_type": "code",
   "execution_count": 2,
   "metadata": {},
   "outputs": [],
   "source": [
    "def mol_with_atom_index(mol):\n",
    "    for atom in mol.GetAtoms():\n",
    "        atom.SetAtomMapNum(atom.GetIdx())\n",
    "    return mol"
   ]
  },
  {
   "cell_type": "code",
   "execution_count": 6,
   "metadata": {},
   "outputs": [
    {
     "name": "stdout",
     "output_type": "stream",
     "text": [
      "CC(C)(C)c1ccc2occ(CC(=O)Nc3ccccc3F)c2c1\n",
      "\n",
      "C[C@@H]1CC(Nc2cncc(-c3nncn3C)c2)C[C@@H](C)C1\n",
      "\n",
      "N#Cc1ccc(-c2ccc(O[C@@H](C(=O)N3CCCC3)c3ccccc3)cc2)cc1\n",
      "\n",
      "CCOC(=O)[C@@H]1CCCN(C(=O)c2nc(-c3ccc(C)cc3)n3c2CCCCC3)C1\n",
      "\n",
      "N#CC1=C(SCC(=O)Nc2cccc(Cl)c2)N=C([O-])[C@H](C#N)C12CCCCC2\n",
      "\n",
      "CC[NH+](CC)[C@](C)(CC)[C@H](O)c1cscc1Br\n",
      "\n",
      "COc1ccc(C(=O)N(C)[C@@H](C)C/C(N)=N/O)cc1O\n",
      "\n",
      "O=C(Nc1nc[nH]n1)c1cccnc1Nc1cccc(F)c1\n",
      "\n",
      "Cc1c(/C=N/c2cc(Br)ccn2)c(O)n2c(nc3ccccc32)c1C#N\n",
      "\n",
      "C[C@@H]1CN(C(=O)c2cc(Br)cn2C)CC[C@H]1[NH3+]\n",
      "\n"
     ]
    }
   ],
   "source": [
    "DATA_PATH = os.path.join(os.path.dirname(os.getcwd()), 'data', 'all.txt')\n",
    "\n",
    "with open(DATA_PATH, 'r') as file:\n",
    "    idx = 0\n",
    "    for line in file:\n",
    "        idx += 1\n",
    "        if idx == 10:\n",
    "            break"
   ]
  },
  {
   "cell_type": "code",
   "execution_count": null,
   "metadata": {},
   "outputs": [],
   "source": []
  }
 ],
 "metadata": {
  "kernelspec": {
   "display_name": "Python 3",
   "language": "python",
   "name": "python3"
  },
  "language_info": {
   "codemirror_mode": {
    "name": "ipython",
    "version": 3
   },
   "file_extension": ".py",
   "mimetype": "text/x-python",
   "name": "python",
   "nbconvert_exporter": "python",
   "pygments_lexer": "ipython3",
   "version": "3.6.7"
  }
 },
 "nbformat": 4,
 "nbformat_minor": 1
}
