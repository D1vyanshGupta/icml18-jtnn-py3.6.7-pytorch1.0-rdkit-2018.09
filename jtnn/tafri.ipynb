{
 "cells": [
  {
   "cell_type": "code",
   "execution_count": 9,
   "metadata": {
    "collapsed": true
   },
   "outputs": [],
   "source": [
    "import numpy as np\n",
    "\n",
    "import torch\n",
    "\n",
    "import rdkit.Chem as Chem\n",
    "from rdkit.Chem import Draw\n",
    "from rdkit.Chem.Draw import IPythonConsole\n",
    "\n",
    "from MolJuncTree import MolJuncTree\n"
   ]
  },
  {
   "cell_type": "code",
   "execution_count": 10,
   "metadata": {},
   "outputs": [],
   "source": [
    "junc_tree = MolJuncTree('CC(C)[C@@H]1CC[C@@H](C)C[C@H]1OC(=O)[C@H]1O[C@H](n2cc(F)c(N)nc2=O)CS1')"
   ]
  },
  {
   "cell_type": "code",
   "execution_count": 11,
   "metadata": {},
   "outputs": [],
   "source": [
    "smiles = 'CC(C)[C@@H]1CC[C@@H](C)C[C@H]1OC(=O)[C@H]1O[C@H](n2cc(F)c(N)nc2=O)CS1'"
   ]
  },
  {
   "cell_type": "code",
   "execution_count": 12,
   "metadata": {},
   "outputs": [],
   "source": [
    "arr = np.array([ord(ch) for ch in smiles])"
   ]
  },
  {
   "cell_type": "code",
   "execution_count": 13,
   "metadata": {},
   "outputs": [
    {
     "data": {
      "text/plain": [
       "array([ 67,  67,  40,  67,  41,  91,  67,  64,  64,  72,  93,  49,  67,\n        67,  91,  67,  64,  64,  72,  93,  40,  67,  41,  67,  91,  67,\n        64,  72,  93,  49,  79,  67,  40,  61,  79,  41,  91,  67,  64,\n        72,  93,  49,  79,  91,  67,  64,  72,  93,  40, 110,  50,  99,\n        99,  40,  70,  41,  99,  40,  78,  41, 110,  99,  50,  61,  79,\n        41,  67,  83,  49])"
      ]
     },
     "execution_count": 13,
     "metadata": {},
     "output_type": "execute_result"
    }
   ],
   "source": [
    "arr"
   ]
  },
  {
   "cell_type": "code",
   "execution_count": 15,
   "metadata": {},
   "outputs": [],
   "source": [
    "x = torch.from_numpy(arr)"
   ]
  },
  {
   "cell_type": "code",
   "execution_count": 16,
   "metadata": {},
   "outputs": [
    {
     "data": {
      "text/plain": [
       "torch.Size([69])"
      ]
     },
     "execution_count": 16,
     "metadata": {},
     "output_type": "execute_result"
    }
   ],
   "source": [
    "x.shape"
   ]
  },
  {
   "cell_type": "code",
   "execution_count": 21,
   "metadata": {},
   "outputs": [
    {
     "name": "stdout",
     "output_type": "stream",
     "text": [
      "CC(C)[C@@H]1CC[C@@H](C)C[C@H]1OC(=O)[C@H]1O[C@H](n2cc(F)c(N)nc2=O)CS1\n"
     ]
    }
   ],
   "source": [
    "str = \"\"\n",
    "for item in x:\n",
    "    str += chr(item)       \n",
    "print(str)"
   ]
  },
  {
   "cell_type": "code",
   "execution_count": 22,
   "metadata": {},
   "outputs": [
    {
     "data": {
      "text/plain": [
       "'CC(C)[C@@H]1CC[C@@H](C)C[C@H]1OC(=O)[C@H]1O[C@H](n2cc(F)c(N)nc2=O)CS1'"
      ]
     },
     "execution_count": 22,
     "metadata": {},
     "output_type": "execute_result"
    }
   ],
   "source": [
    "''.join(list(map(lambda x: chr(x), x)))"
   ]
  },
  {
   "cell_type": "code",
   "execution_count": 4,
   "metadata": {},
   "outputs": [
    {
     "ename": "TypeError",
     "evalue": "tensor(): argument 'dtype' must be torch.dtype, not str",
     "traceback": [
      "\u001b[0;31m---------------------------------------------------------------------------\u001b[0m",
      "\u001b[0;31mTypeError\u001b[0m                                 Traceback (most recent call last)",
      "\u001b[0;32m<ipython-input-4-633186fca07e>\u001b[0m in \u001b[0;36m<module>\u001b[0;34m\u001b[0m\n\u001b[0;32m----> 1\u001b[0;31m \u001b[0mjunc_tree_tensor\u001b[0m \u001b[0;34m=\u001b[0m \u001b[0mtorch\u001b[0m\u001b[0;34m.\u001b[0m\u001b[0mtensor\u001b[0m\u001b[0;34m(\u001b[0m\u001b[0mjunc_tree\u001b[0m\u001b[0;34m,\u001b[0m \u001b[0mdtype\u001b[0m\u001b[0;34m=\u001b[0m\u001b[0;34m'MolJuncTree'\u001b[0m\u001b[0;34m)\u001b[0m\u001b[0;34m\u001b[0m\u001b[0;34m\u001b[0m\u001b[0m\n\u001b[0m",
      "\u001b[0;31mTypeError\u001b[0m: tensor(): argument 'dtype' must be torch.dtype, not str"
     ],
     "output_type": "error"
    }
   ],
   "source": [
    "junc_tree_tensor = torch.tensor(junc_tree, dtype='MolJuncTree')"
   ]
  },
  {
   "cell_type": "code",
   "execution_count": null,
   "metadata": {},
   "outputs": [],
   "source": []
  },
  {
   "cell_type": "code",
   "execution_count": null,
   "metadata": {},
   "outputs": [],
   "source": []
  },
  {
   "cell_type": "code",
   "execution_count": 5,
   "metadata": {},
   "outputs": [],
   "source": [
    "def mol_with_atom_index( mol ):\n",
    "    atoms = mol.GetNumAtoms()\n",
    "    for idx in range( atoms ):\n",
    "        mol.GetAtomWithIdx( idx ).SetProp( 'molAtomMapNumber', str( mol.GetAtomWithIdx( idx ).GetIdx() ) )\n",
    "    return mol"
   ]
  },
  {
   "cell_type": "code",
   "execution_count": 8,
   "metadata": {},
   "outputs": [],
   "source": [
    "x = torch.randn(10,5)"
   ]
  },
  {
   "cell_type": "code",
   "execution_count": 9,
   "metadata": {},
   "outputs": [
    {
     "data": {
      "text/plain": [
       "tensor([[-0.2561,  1.1097, -0.9956,  1.2825,  1.7023],\n        [-0.0237, -1.0353,  0.4413, -0.9329,  0.6193],\n        [-1.6397, -0.2367, -1.0390,  1.2540, -0.7572],\n        [ 0.1845,  1.2306, -0.5463, -0.6967, -0.2789],\n        [ 0.5653,  1.5654, -0.8289,  1.5294,  0.6850],\n        [ 0.5515, -0.4253, -0.8693,  0.7448, -1.8184],\n        [ 1.4574,  0.0664, -0.0902, -0.2066, -1.1983],\n        [ 0.4142, -2.0299, -0.4837, -1.6217,  1.6142],\n        [-0.2006,  1.4563,  0.8201, -0.4498,  1.5089],\n        [ 0.8570, -1.2105,  1.7694, -2.3028,  0.7238]])"
      ]
     },
     "execution_count": 9,
     "metadata": {},
     "output_type": "execute_result"
    }
   ],
   "source": [
    "x"
   ]
  },
  {
   "cell_type": "code",
   "execution_count": 12,
   "metadata": {},
   "outputs": [],
   "source": [
    "y = x.narrow(0, 2, 5).sum()"
   ]
  },
  {
   "cell_type": "code",
   "execution_count": 14,
   "metadata": {},
   "outputs": [
    {
     "data": {
      "text/plain": [
       "tensor([ 1.1190,  2.2005, -3.3737,  2.6249, -3.3678])"
      ]
     },
     "execution_count": 14,
     "metadata": {},
     "output_type": "execute_result"
    }
   ],
   "source": [
    "y.sum(dim=0)"
   ]
  },
  {
   "cell_type": "code",
   "execution_count": null,
   "metadata": {},
   "outputs": [],
   "source": []
  },
  {
   "cell_type": "code",
   "execution_count": null,
   "metadata": {},
   "outputs": [],
   "source": []
  },
  {
   "cell_type": "code",
   "execution_count": null,
   "metadata": {},
   "outputs": [],
   "source": [
    "smiles_batch = ['CC(C)[C@@H]1CC[C@@H](C)C[C@H]1OC(=O)[C@H]1O[C@H](n2cc(F)c(N)nc2=O)CS1', 'CCCN(CC1CC1)C(=O)Nc1cc(NC(C)=O)ccc1Cl']"
   ]
  },
  {
   "cell_type": "code",
   "execution_count": 4,
   "metadata": {},
   "outputs": [],
   "source": [
    "junc_tree_batch = [MolJuncTree(smiles) for smiles in smiles_batch]"
   ]
  },
  {
   "cell_type": "code",
   "execution_count": 8,
   "metadata": {},
   "outputs": [
    {
     "data": {
      "text/plain": [
       "27"
      ]
     },
     "execution_count": 8,
     "metadata": {},
     "output_type": "execute_result"
    }
   ],
   "source": [
    "(junc_tree_batch[0].mol).GetNumAtoms()"
   ]
  },
  {
   "cell_type": "code",
   "execution_count": 5,
   "metadata": {},
   "outputs": [
    {
     "name": "stdout",
     "output_type": "stream",
     "text": [
      "0 CO\n1 CO\n2 CC\n3 CN\n4 CN\n5 C=O\n6 CC\n7 CN\n8 CC\n9 C1=CC=NC=C1\n10 C1C[NH2+]CCN1\n11 C1=CC=CC=C1\n12 C\n"
     ]
    }
   ],
   "source": [
    "idx = 0\n",
    "for node in junc_tree.nodes:\n",
    "    node.idx = idx\n",
    "    idx += 1\n",
    "\n",
    "for node in junc_tree.nodes:\n",
    "    print(node.idx, node.smiles)"
   ]
  },
  {
   "cell_type": "code",
   "execution_count": 7,
   "metadata": {},
   "outputs": [],
   "source": [
    "from collections import deque"
   ]
  },
  {
   "cell_type": "code",
   "execution_count": 20,
   "metadata": {},
   "outputs": [],
   "source": [
    "    def get_bottom_up_traversal_order(root):\n",
    "        \"\"\"\n",
    "        This method, gets the bottom-up and top-down traversal order for tree message passing purposes.\n",
    "\n",
    "        * node.idx is the id of the node across all nodes, of all junction trees, for all molecules of the dataset.\n",
    "\n",
    "        Args:\n",
    "        root: Root of junction tree of a molecule in the training dataset.\n",
    "\n",
    "        Returns:\n",
    "            traversal_order: List of lists of tuples. Each sublist of tuples corresponds to a depth of junction tree.\n",
    "                            Each tuple corresponds to an edge along which message passing occurs.\n",
    "        \"\"\"\n",
    "\n",
    "        # FIFO queue for BFS traversal\n",
    "        fifo_queue = deque([root])\n",
    "\n",
    "        # set to keep track of visited nodes\n",
    "        visited = set([root.idx])\n",
    "\n",
    "        # root node is at zeroth depth\n",
    "        root.depth = 0\n",
    "\n",
    "        # list to store appropriate traversal order\n",
    "        bottom_up = []\n",
    "\n",
    "        while len(fifo_queue) > 0:\n",
    "            # pop node from front of the queue\n",
    "            x = fifo_queue.popleft()\n",
    "\n",
    "            # traverse the neighbors\n",
    "            for y in x.neighbors:\n",
    "                if y.idx not in visited:\n",
    "                    fifo_queue.append(y)\n",
    "\n",
    "                    visited.add(y.idx)\n",
    "\n",
    "                    y.depth = x.depth + 1\n",
    "\n",
    "                    if y.depth > len(bottom_up):\n",
    "                        bottom_up.append([])\n",
    "                        \n",
    "                    bottom_up[y.depth - 1].append((y.idx, x.idx))\n",
    "\n",
    "        # first we implement bottom-up traversal and then top-down traversal\n",
    "        traversal_order = bottom_up[::-1]\n",
    "\n",
    "        return traversal_order"
   ]
  },
  {
   "cell_type": "code",
   "execution_count": 21,
   "metadata": {},
   "outputs": [],
   "source": [
    "traversal_order = get_bottom_up_traversal_order(junc_tree.nodes[0])"
   ]
  },
  {
   "cell_type": "code",
   "execution_count": 23,
   "metadata": {},
   "outputs": [
    {
     "name": "stdout",
     "output_type": "stream",
     "text": [
      "[(11, 8)]\n[(8, 10)]\n[(10, 7)]\n[(7, 9)]\n[(9, 6)]\n[(5, 12), (6, 12)]\n[(12, 4)]\n[(4, 3)]\n[(3, 2)]\n[(2, 1)]\n[(1, 0)]\n"
     ]
    }
   ],
   "source": [
    "for depth in traversal_order:\n",
    "    print(depth)"
   ]
  },
  {
   "cell_type": "code",
   "execution_count": null,
   "metadata": {},
   "outputs": [],
   "source": []
  }
 ],
 "metadata": {
  "kernelspec": {
   "display_name": "Python 2",
   "language": "python",
   "name": "python2"
  },
  "language_info": {
   "codemirror_mode": {
    "name": "ipython",
    "version": 2
   },
   "file_extension": ".py",
   "mimetype": "text/x-python",
   "name": "python",
   "nbconvert_exporter": "python",
   "pygments_lexer": "ipython2",
   "version": "2.7.6"
  }
 },
 "nbformat": 4,
 "nbformat_minor": 0
}
